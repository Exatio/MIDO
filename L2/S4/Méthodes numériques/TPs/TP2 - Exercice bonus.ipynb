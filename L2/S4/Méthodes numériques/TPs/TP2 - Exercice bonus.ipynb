{
 "cells": [
  {
   "cell_type": "markdown",
   "metadata": {},
   "source": [
    "# Feuille de travaux pratiques. Boucles et récursivité"
   ]
  },
  {
   "cell_type": "markdown",
   "metadata": {},
   "source": [
    "## Exercice bonus (procédé $\\Delta^2$ d'Aitken)\n",
    "\n",
    "On peut obtenir une valeur approchée du réel $\\pi$ en sommant un nombre fini de termes de la [série de Madhava-Gregory-Leibniz](https://en.wikipedia.org/wiki/Leibniz_formula_for_%CF%80),\n",
    "$$\n",
    "\\sum_{n=0}^{+\\infty}\\frac{(-1)^n}{2n+1}=\\frac{\\pi}{4}.\n",
    "$$\n",
    "La convergence de cette série est malheureusement lente et, pour l'accélérer, on se propose d'utiliser le [procédé $\\Delta^2$ d'Aitken](https://en.wikipedia.org/wiki/Aitken%27s_delta-squared_process). Cette technique consiste en la construction d'une suite $(u^{(k)})_{k\\in\\mathbb{N}}$ définie par\n",
    "$$\n",
    "\\forall k\\in\\mathbb{N},\\ u^{(k)}=s^{(k)}-\\frac{\\left(s^{(k+1)}-s^{(k)}\\right)^2}{s^{(k)}-2\\,s^{(k+1)}+s^{(k+2)}},\\text{ avec},\\forall m\\in\\mathbb{N},\\ s^{(m)}=\\sum_{n=0}^m\\frac{(-1)^n}{2n+1},\n",
    "$$\n",
    "ayant même limite que la suite $(s^{(k)})_{k\\in\\mathbb{N}}$ des sommes partielles de la série de Madhava-Gregory-Leibniz et convergeant plus rapidement.\n",
    "\n",
    "**1.** Écrire une boucle calculant les termes de la suite $(s^{(k)})_{k\\in\\mathbb{N}}$ et s'arrêtant lorsque la condition $\\vert s^{(k)}-\\frac{\\pi}{4}\\vert\\leq\\varepsilon$ est vérifiée, avec $\\varepsilon$ un réel strictement positif fixé. En prenant $\\varepsilon=10^{-6}$, combien faut-il calculer de termes pour satisfaire le critère ? On mesurera le temps nécessaire au calcul de la série tronquée au moyen de la fonction `time.time` de Python."
   ]
  },
  {
   "cell_type": "code",
   "execution_count": 1,
   "metadata": {},
   "outputs": [
    {
     "name": "stdout",
     "output_type": "stream",
     "text": [
      "On a trouvé l'approximation en 0.008090496063232422 secondes\n",
      "L'approximation trouvée est 0.7853881633974508\n",
      "On a dû calculer 25000 termes\n"
     ]
    }
   ],
   "source": [
    "import time\n",
    "from math import pi\n",
    "\n",
    "epsilon = 10e-6\n",
    "\n",
    "n = 0\n",
    "sm = 0\n",
    "\n",
    "startTime = time.time()\n",
    "while abs(sm - pi/4) > epsilon:\n",
    "    sm += ((-1)**n / (2 * n + 1))\n",
    "    n += 1\n",
    "endTime = time.time()\n",
    "\n",
    "print(f\"On a trouvé l'approximation en {endTime-startTime} secondes\")\n",
    "print(f\"L'approximation trouvée est {sm}\")\n",
    "print(f\"On a dû calculer {n} termes\")"
   ]
  },
  {
   "cell_type": "markdown",
   "metadata": {},
   "source": [
    "**2.** Modifier la boucle de façon à calculer les termes de la suite $(u^{(k)})_{k\\in\\mathbb{N}}$. Pour quelle valeur de l'entier $k$ a-t-on $\\vert u^{(k)}-\\frac{\\pi}{4}\\vert\\leq\\varepsilon$, avec $\\varepsilon=10^{-6}$ ?"
   ]
  },
  {
   "cell_type": "code",
   "execution_count": 2,
   "metadata": {},
   "outputs": [
    {
     "name": "stdout",
     "output_type": "stream",
     "text": [
      "On a trouvé l'approximation en 8.225440979003906e-05 secondes\n",
      "L'approximation trouvée est 0.7853890825711435\n",
      "On a dû calculer 19 termes\n"
     ]
    }
   ],
   "source": [
    "import time\n",
    "from math import pi\n",
    "\n",
    "epsilon = 10e-6\n",
    "\n",
    "k = 0\n",
    "sk = 0\n",
    "sk_1 = 1\n",
    "sk_2 = 1 - 1/3\n",
    "uk = 0\n",
    "\n",
    "startTime = time.time()\n",
    "while abs(uk - pi/4) > epsilon:\n",
    "    uk = sk - ((sk_1 - sk)**2)/(sk - 2 * sk_1 + sk_2)\n",
    "    sk = sk_1\n",
    "    sk_1 = sk_2\n",
    "    sk_2 = sk_2 + ((-1)**(k+2) / (2 * k + 5))\n",
    "    k += 1\n",
    "endTime = time.time()\n",
    "\n",
    "print(f\"On a trouvé l'approximation en {endTime-startTime} secondes\")\n",
    "print(f\"L'approximation trouvée est {uk}\")\n",
    "print(f\"On a dû calculer {k} termes\")"
   ]
  },
  {
   "cell_type": "markdown",
   "metadata": {},
   "source": [
    "**3.** Reprendre les questions précédentes avec $\\varepsilon=10^{-8}$."
   ]
  },
  {
   "cell_type": "code",
   "execution_count": 3,
   "metadata": {},
   "outputs": [
    {
     "name": "stdout",
     "output_type": "stream",
     "text": [
      "On a trouvé l'approximation en 0.8604311943054199 secondes\n",
      "L'approximation trouvée est 0.7853982633973956\n",
      "On a dû calculer 2500001 termes\n",
      "On a trouvé l'approximation en 0.0001201629638671875 secondes\n",
      "L'approximation trouvée est 0.7853982616426363\n",
      "On a dû calculer 86 termes\n"
     ]
    }
   ],
   "source": [
    "import time\n",
    "from math import pi\n",
    "\n",
    "epsilon = 10e-8\n",
    "\n",
    "n = 0\n",
    "sm = 0\n",
    "\n",
    "startTime = time.time()\n",
    "while abs(sm - pi/4) > epsilon:\n",
    "    sm += ((-1)**n / (2 * n + 1))\n",
    "    n += 1\n",
    "endTime = time.time()\n",
    "\n",
    "print(f\"On a trouvé l'approximation en {endTime-startTime} secondes\")\n",
    "print(f\"L'approximation trouvée est {sm}\")\n",
    "print(f\"On a dû calculer {n} termes\")\n",
    "\n",
    "\n",
    "k = 0\n",
    "sk = 0\n",
    "sk_1 = 1\n",
    "sk_2 = 1 - 1/3\n",
    "uk = 0\n",
    "\n",
    "startTime = time.time()\n",
    "while abs(uk - pi/4) > epsilon:\n",
    "    uk = sk - ((sk_1 - sk)**2)/(sk - 2 * sk_1 + sk_2)\n",
    "    sk = sk_1\n",
    "    sk_1 = sk_2\n",
    "    sk_2 = sk_2 + ((-1)**(k+2) / (2 * k + 5))\n",
    "    k += 1\n",
    "endTime = time.time()\n",
    "\n",
    "print(f\"On a trouvé l'approximation en {endTime-startTime} secondes\")\n",
    "print(f\"L'approximation trouvée est {uk}\")\n",
    "print(f\"On a dû calculer {k} termes\")"
   ]
  }
 ],
 "metadata": {
  "kernelspec": {
   "display_name": "Python 3",
   "language": "python",
   "name": "python3"
  },
  "language_info": {
   "codemirror_mode": {
    "name": "ipython",
    "version": 3
   },
   "file_extension": ".py",
   "mimetype": "text/x-python",
   "name": "python",
   "nbconvert_exporter": "python",
   "pygments_lexer": "ipython3",
   "version": "3.11.6"
  }
 },
 "nbformat": 4,
 "nbformat_minor": 1
}
