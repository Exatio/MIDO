{
 "cells": [
  {
   "cell_type": "markdown",
   "metadata": {},
   "source": [
    "# Feuille de travaux pratiques. Méthodes directes de résolution des systèmes linéaires (partie 1)"
   ]
  },
  {
   "cell_type": "code",
   "execution_count": 1,
   "metadata": {},
   "outputs": [],
   "source": [
    "# chargement des bibliothèques\n",
    "import numpy as np\n",
    "\n",
    "%matplotlib inline\n",
    "import matplotlib.pyplot as plt"
   ]
  },
  {
   "cell_type": "markdown",
   "metadata": {},
   "source": [
    "## Exercice bonus (erreurs d'arrondi et conditionnement)\n",
    "On veut dans cet exercice mettre en évidence les problèmes, liés à la présence d'erreurs d'arrondi dans les calculs, apparaissant lors de la résolution numérique de certains systèmes linéaires. On va pour cela considérer la famille des [matrices de Hilbert](https://en.wikipedia.org/wiki/Hilbert_matrix). Numériquement, la matrice de Hilbert $H$ d'ordre $n$ est obtenue en entrant la commande `linalg.hilbert(n)` de SciPy.\n",
    "\n",
    "**1.** Poser $n=10$ et choisir une matrice colonne non nulle $x$ à $n$ lignes (par exemple celle dont tous les éléments valent $1$). Calculer ensuite le vecteur $b=Hx$."
   ]
  },
  {
   "cell_type": "code",
   "execution_count": 3,
   "metadata": {},
   "outputs": [
    {
     "name": "stdout",
     "output_type": "stream",
     "text": [
      "[2.92896825 2.01987734 1.60321068 1.34680042 1.16822899 1.03489566\n",
      " 0.93072899 0.84669538 0.77725094 0.7187714 ]\n"
     ]
    }
   ],
   "source": [
    "from scipy import linalg\n",
    "\n",
    "n = 10\n",
    "\n",
    "x = np.ones(n)\n",
    "b = np.dot(linalg.hilbert(n), x)\n",
    "\n",
    "print(b)\n"
   ]
  },
  {
   "cell_type": "markdown",
   "metadata": {},
   "source": [
    "**2.** Résoudre alors numériquement le système $Hx=b$ en utilisant la fonction `linalg.solve` de NumPy. Que constate-t-on ? En notant $\\hat{x}$ la solution calculée, comparer précisément $\\hat{x}$ avec $x$ en calculant l'erreur relative\n",
    "$$\n",
    "\\frac{\\|\\hat{x}-x\\|_2}{\\|x\\|_2}.\n",
    "$$ "
   ]
  },
  {
   "cell_type": "code",
   "execution_count": 4,
   "metadata": {},
   "outputs": [
    {
     "ename": "SyntaxError",
     "evalue": "invalid syntax (98081695.py, line 3)",
     "output_type": "error",
     "traceback": [
      "\u001b[1;36m  Cell \u001b[1;32mIn[4], line 3\u001b[1;36m\u001b[0m\n\u001b[1;33m    print(\"L'erreur relative est de: \", np.)\u001b[0m\n\u001b[1;37m                                           ^\u001b[0m\n\u001b[1;31mSyntaxError\u001b[0m\u001b[1;31m:\u001b[0m invalid syntax\n"
     ]
    }
   ],
   "source": [
    "solution = np.linalg.solve(linalg.hilbert(n),b)\n",
    "print(solution)\n",
    "print(\"L'erreur relative est de: \", np.)"
   ]
  },
  {
   "cell_type": "markdown",
   "metadata": {},
   "source": [
    "**3.** L'erreur relative dépend-elle fortement du choix du second membre du système linéaire ?"
   ]
  },
  {
   "cell_type": "markdown",
   "metadata": {},
   "source": [
    "Pour évaluer cette dépendance, on tire une solution $x$ aléatoirement via la fonction `random.rand` de NumPy et on calcule le second membre correspondant comme dans la première question. On effectue ensuite la résolution du système linéaire ainsi obtenu et on répète plusieurs fois cette opération."
   ]
  },
  {
   "cell_type": "code",
   "execution_count": null,
   "metadata": {},
   "outputs": [],
   "source": []
  },
  {
   "cell_type": "markdown",
   "metadata": {},
   "source": [
    "**4.** Tracer le graphe, en utilisant une échelle logarithmique pour l'axe des ordonnées, de l'erreur relative en fonction de l'ordre $n$ de la matrice de Hilbert pour la solution dont toutes les composantes sont égales à 1. Tracer sur la même figure le graphe du [conditionnement](https://en.wikipedia.org/wiki/Condition_number#Matrices) en norme $\\|\\cdot\\|_2$ de la matrice, obtenu via la fonction `linalg.cond` de NumPy, en fonction de son ordre. Que peut-on remarquer ? "
   ]
  },
  {
   "cell_type": "code",
   "execution_count": null,
   "metadata": {},
   "outputs": [],
   "source": []
  }
 ],
 "metadata": {
  "kernelspec": {
   "display_name": "Python 3",
   "language": "python",
   "name": "python3"
  },
  "language_info": {
   "codemirror_mode": {
    "name": "ipython",
    "version": 3
   },
   "file_extension": ".py",
   "mimetype": "text/x-python",
   "name": "python",
   "nbconvert_exporter": "python",
   "pygments_lexer": "ipython3",
   "version": "3.8.10"
  }
 },
 "nbformat": 4,
 "nbformat_minor": 1
}
