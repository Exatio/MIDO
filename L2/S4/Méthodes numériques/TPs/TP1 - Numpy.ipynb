{
 "cells": [
  {
   "cell_type": "markdown",
   "metadata": {},
   "source": [
    "# Feuille de travaux pratiques. Prise en main de NumPy et Matplotlib, utilisation de Jupyter notebook"
   ]
  },
  {
   "cell_type": "code",
   "execution_count": 51,
   "metadata": {},
   "outputs": [],
   "source": [
    "# chargement des bibliothèques\n",
    "import numpy as np\n",
    "\n",
    "%matplotlib inline\n",
    "import matplotlib.pyplot as plt"
   ]
  },
  {
   "cell_type": "markdown",
   "metadata": {},
   "source": [
    "## Exercice 1 (manipulation et opérations sur les tableaux, calcul matriciel)\n",
    "\n",
    "**1.** On considère les matrices suivantes\n",
    "$$\n",
    "l=\n",
    "\\begin{pmatrix}\n",
    " 1 & 2 & 3\n",
    "\\end{pmatrix},\\ \n",
    "c=\n",
    "\\begin{pmatrix}\n",
    " 3 \\\\ 4 \\\\ 5\n",
    "\\end{pmatrix},\\\n",
    "A=\n",
    "\\begin{pmatrix}\n",
    "1 & 2 & 0 \\\\\n",
    "0 & 1 & 2 \\\\\n",
    "0 & 2 & 1 \\\\\n",
    "\\end{pmatrix},\\ \n",
    "B=\n",
    "\\begin{pmatrix}\n",
    "-3 & 5 & 0 \\\\\n",
    "0 & 7 & 2 \\\\\n",
    "0 & -2 & 1 \\\\\n",
    "\\end{pmatrix}\n",
    ".\n",
    "$$\n",
    "**(a)** Créer des tableaux correspondant à ces matrices."
   ]
  },
  {
   "cell_type": "code",
   "execution_count": 52,
   "metadata": {},
   "outputs": [
    {
     "name": "stdout",
     "output_type": "stream",
     "text": [
      "[[1 2 3]]\n",
      "[[3]\n",
      " [4]\n",
      " [5]]\n",
      "[[1 2 0]\n",
      " [0 1 2]\n",
      " [0 2 1]]\n",
      "[[-3  5  0]\n",
      " [ 0  7  2]\n",
      " [ 0 -2  1]]\n"
     ]
    }
   ],
   "source": [
    "l = np.matrix([1, 2, 3])\n",
    "c = np.vstack([3, 4, 5])\n",
    "\n",
    "A = np.matrix([[1, 2, 0],\n",
    "              [0, 1, 2],\n",
    "              [0, 2, 1]])\n",
    "\n",
    "B = np.matrix([[-3, 5, 0],\n",
    "              [0, 7, 2],\n",
    "              [0, -2, 1]])\n",
    "\n",
    "print(l, c, A, B, sep='\\n')"
   ]
  },
  {
   "cell_type": "markdown",
   "metadata": {},
   "source": [
    "**(b)** Extraire le deuxième élément de $l$, la première ligne, la deuxième colonne et la sous-matrice $(a_{ij})_{2\\leq i\\leq3,2\\leq j\\leq3}$ de la matrice $A$, les termes diagonaux de la matrice $B$."
   ]
  },
  {
   "cell_type": "code",
   "execution_count": 53,
   "metadata": {},
   "outputs": [
    {
     "name": "stdout",
     "output_type": "stream",
     "text": [
      "2\n",
      "[[1 2 0]]\n",
      "[[2]\n",
      " [1]\n",
      " [2]]\n",
      "[[1 2]\n",
      " [2 1]]\n",
      "[-3  7  1]\n"
     ]
    }
   ],
   "source": [
    "print(l[0,1])\n",
    "print(A[0])\n",
    "print(A[0:, 1])\n",
    "print(A[1:, 1:])\n",
    "print(np.diag(B))"
   ]
  },
  {
   "cell_type": "markdown",
   "metadata": {},
   "source": [
    "**(c)** En utilisant la fonction `print` de Python, analyser et commenter le résultat produit par chacune des commandes suivantes : `l.shape`, `A.shape`, `A.shape[0]`, `A.shape[1]`, `l*c`, `np.sum(l*c)`, `np.dot(l,c)`, `np.linalg.norm(l)`, `np.linalg.norm(l,ord=1)`, `np.linalg.norm(l,ord=np.inf)`, `A*B`, `A*l`, `A**2`, `np.dot(A,l)`, `np.dot(A,B)`, `A.T`, `np.linalg.matrix_rank(A)`, `np.linalg.solve(A,l)`."
   ]
  },
  {
   "cell_type": "code",
   "execution_count": 54,
   "metadata": {},
   "outputs": [
    {
     "name": "stdout",
     "output_type": "stream",
     "text": [
      "(1, 3)\n",
      "(3, 3)\n",
      "3\n",
      "3\n",
      "[[26]]\n",
      "26\n",
      "[[26]]\n",
      "3.7416573867739413\n",
      "3.0\n",
      "6.0\n",
      "[[-3 19  4]\n",
      " [ 0  3  4]\n",
      " [ 0 12  5]]\n",
      "[[11]\n",
      " [14]\n",
      " [13]]\n",
      "[[1 4 4]\n",
      " [0 5 4]\n",
      " [0 4 5]]\n",
      "[[11]\n",
      " [14]\n",
      " [13]]\n",
      "[[-3 19  4]\n",
      " [ 0  3  4]\n",
      " [ 0 12  5]]\n",
      "[[1 0 0]\n",
      " [2 1 2]\n",
      " [0 2 1]]\n",
      "3\n",
      "[[-1.]\n",
      " [ 2.]\n",
      " [ 1.]]\n"
     ]
    }
   ],
   "source": [
    "print(l.shape) # Si A appartient à M n,p (R), renvoie n,p \n",
    "print(A.shape) # Pareil\n",
    "print(A.shape[0]) # Renvoie le nombre de lignes de A (n)\n",
    "print(A.shape[1]) # Renvoie le nombre de colonnes de A (p)\n",
    "print(l*c) # Renvoie le résultat du produit matriciel de l et c\n",
    "print(np.sum(l*c)) # Renvoie le résultat de la somme matricielle de l et c\n",
    "print(np.dot(l,c)) # La même chose que l * c\n",
    "print(np.linalg.norm(l)) # Norme euclidienne du vecteur l\n",
    "print(np.linalg.norm(l,ord=1)) # Norme (max des sommes des colonnes) du vecteur l \n",
    "print(np.linalg.norm(l,ord=np.inf)) # Norme (max des sommes des lignes) du vecteur l \n",
    "print(A*B) # Renvoie le résultat du produit matriciel de A et B\n",
    "# print(A*l) # Ne fonctionne pas car A ne peut pas multiplier l (problème de taille)\n",
    "print(A*c) # VERSION CORRECTE\n",
    "print(A**2) # \n",
    "# print(np.dot(A,l)) # Même que A * l\n",
    "print(np.dot(A,c)) # VERSION CORRECTE\n",
    "print(np.dot(A,B)) # Produit matriciel de A et B\n",
    "print(A.T) # Transposée de A\n",
    "print(np.linalg.matrix_rank(A)) # Renvoie rg(A)\n",
    "# print(np.linalg.solve(A,l)) # Censé résoudre le système linéaire Ax = l mais il y a problème de taille\n",
    "print(np.linalg.solve(A,c)) # VERSION CORRECTE"
   ]
  },
  {
   "cell_type": "markdown",
   "metadata": {},
   "source": [
    "**2.** Certaines commandes permettent la création automatique des tableaux particuliers. À titre d'illustration, étudier le résultat produit par chacune des commandes suivantes : `np.arange(1.3,15.8)`, `np.arange(1.3,15.8,0.4)`, `np.linspace(1.3,15.8,5)`, `np.zeros(5)`, `np.ones((3,5))`, `np.sin(np.arange(0,np.pi,np.pi/6))`, `np.eye(3)`, `np.random.rand(2,4)`, `np.random.randn(2,4)`."
   ]
  },
  {
   "cell_type": "code",
   "execution_count": 55,
   "metadata": {},
   "outputs": [
    {
     "name": "stdout",
     "output_type": "stream",
     "text": [
      "[ 1.3  2.3  3.3  4.3  5.3  6.3  7.3  8.3  9.3 10.3 11.3 12.3 13.3 14.3\n",
      " 15.3]\n",
      "[ 1.3  1.7  2.1  2.5  2.9  3.3  3.7  4.1  4.5  4.9  5.3  5.7  6.1  6.5\n",
      "  6.9  7.3  7.7  8.1  8.5  8.9  9.3  9.7 10.1 10.5 10.9 11.3 11.7 12.1\n",
      " 12.5 12.9 13.3 13.7 14.1 14.5 14.9 15.3 15.7]\n",
      "[ 1.3    4.925  8.55  12.175 15.8  ]\n",
      "[0. 0. 0. 0. 0.]\n",
      "[[1. 1. 1. 1. 1.]\n",
      " [1. 1. 1. 1. 1.]\n",
      " [1. 1. 1. 1. 1.]]\n",
      "[0.        0.5       0.8660254 1.        0.8660254 0.5      ]\n",
      "[[1. 0. 0.]\n",
      " [0. 1. 0.]\n",
      " [0. 0. 1.]]\n",
      "[[0.61394911 0.66602717 0.4088943  0.82225722]\n",
      " [0.78070037 0.23120559 0.54970005 0.37505545]]\n",
      "[[ 0.12522043 -1.08876131  0.31633454 -1.18696566]\n",
      " [-1.37810798  1.23491749  1.13677762  0.20982872]]\n"
     ]
    }
   ],
   "source": [
    "print(np.arange(1.3,15.8)) # On avance de 1 entre 1.3 et jusqu'à ce qu'on dépasse 15.8\n",
    "print(np.arange(1.3,15.8,0.4)) # On avance de 0.4 entre 1.3 et jusqu'à ce qu'on dépasse 15.8\n",
    "print(np.linspace(1.3,15.8,5)) # On prend 5 valeurs à distances égales l'une d'entre l'autre, la première étant 1.3 et la dernière 15.8\n",
    "print(np.zeros(5)) # 5 fois la valeur 0\n",
    "print(np.ones((3,5))) # matrice de 3 lignes 5 colonnes constituées de 1\n",
    "print(np.sin(np.arange(0,np.pi,np.pi/6))) # Tableau de sinus de x = kPI/6 pour x allant de 0 à pi (donc k allant de 0 à 6)\n",
    "print(np.eye(3)) # Renvoie la matrice identité sur une matrice carré 3*3\n",
    "print(np.random.rand(2,4)) # Renvoie un tableau de 2 lignes 4 colonnes de valeurs aléatoires entre 0 et 1 \n",
    "print(np.random.randn(2,4)) # Renvoie un tableau de 2 lignes 4 colonnes de valeurs aléatoires dans R selon la distribution normale"
   ]
  },
  {
   "cell_type": "markdown",
   "metadata": {},
   "source": [
    "**3.** On considère les vecteurs de $\\mathbb{R}^3$ suivants :\n",
    "$$\n",
    "u=(1,2,3),\\ v=(-5,2,1)\\text{ et }w=(-1,-3,-7).\n",
    "$$\n",
    "\n",
    "**(a)** Créer des tableaux correspondant à ces vecteurs."
   ]
  },
  {
   "cell_type": "code",
   "execution_count": 56,
   "metadata": {},
   "outputs": [],
   "source": [
    "u = [1, 2, 3]\n",
    "v = [-5, 2, 1]\n",
    "w = [-1, -3, -7]"
   ]
  },
  {
   "cell_type": "markdown",
   "metadata": {},
   "source": [
    "**(b)** Calculer $u+v$, $u+3v-5w$, $\\frac{1}{8}w$."
   ]
  },
  {
   "cell_type": "code",
   "execution_count": 57,
   "metadata": {},
   "outputs": [
    {
     "name": "stdout",
     "output_type": "stream",
     "text": [
      "[-4  4  4]\n",
      "[-14   8   6]\n"
     ]
    }
   ],
   "source": [
    "print(np.add(u, v))\n",
    "print(np.add(u, np.dot(3, v), np.dot(-5,w)))"
   ]
  },
  {
   "cell_type": "markdown",
   "metadata": {},
   "source": [
    "**(c)** En utilisant les fonctions appropriées, calculer le cosinus de l'angle formé par les vecteurs $v$ et $w$."
   ]
  },
  {
   "cell_type": "code",
   "execution_count": 58,
   "metadata": {},
   "outputs": [
    {
     "name": "stdout",
     "output_type": "stream",
     "text": [
      "-0.19015307541661133\n"
     ]
    }
   ],
   "source": [
    "cos = np.dot(v, w) / (np.sqrt(np.dot(v, v)) * np.sqrt(np.dot(w, w)))\n",
    "print(cos)"
   ]
  },
  {
   "cell_type": "markdown",
   "metadata": {},
   "source": [
    "**4.** On considère la matrice\n",
    "$$\n",
    "A=\\begin{pmatrix}2&3&4\\\\7&6&5\\\\2&8&7\\end{pmatrix}.\n",
    "$$\n",
    "\n",
    "**(a)** Créer un tableau correspondant à $A$."
   ]
  },
  {
   "cell_type": "code",
   "execution_count": 59,
   "metadata": {},
   "outputs": [],
   "source": [
    "A = np.matrix([[2, 3, 4],\n",
    "              [7, 6, 5],\n",
    "              [2, 8, 7]])"
   ]
  },
  {
   "cell_type": "markdown",
   "metadata": {},
   "source": [
    "**(b)** En utilisant les fonctions appropriées, calculer le déterminant, l'inverse et les valeurs propres et vecteurs propres associés de $A$."
   ]
  },
  {
   "cell_type": "code",
   "execution_count": 60,
   "metadata": {},
   "outputs": [
    {
     "name": "stdout",
     "output_type": "stream",
     "text": [
      "62.99999999999999\n",
      "[[ 0.03174603  0.17460317 -0.14285714]\n",
      " [-0.61904762  0.0952381   0.28571429]\n",
      " [ 0.6984127  -0.15873016 -0.14285714]]\n",
      "[15.33318175+0.j         -0.16659087+2.02014449j -0.16659087-2.02014449j]\n",
      "[[ 0.34965969+0.j          0.03547431+0.40167303j  0.03547431-0.40167303j]\n",
      " [ 0.63250769+0.j          0.57925019-0.2661993j   0.57925019+0.2661993j ]\n",
      " [ 0.69113828+0.j         -0.65651161+0.j         -0.65651161-0.j        ]]\n"
     ]
    }
   ],
   "source": [
    "print(np.linalg.det(A))\n",
    "print(np.linalg.inv(A))\n",
    "valp, vecp = np.linalg.eig(A)\n",
    "print(valp)\n",
    "print(vecp)"
   ]
  },
  {
   "cell_type": "markdown",
   "metadata": {},
   "source": [
    "**5.** Soit $n$ un entier naturel supérieur ou égal à $2$.\n",
    "\n",
    "(a) Donner une valeur à $n$ et exécuter la suite d'intructions suivante :<br>\n",
    "`A=2*np.eye(n)`<br>\n",
    "`i,j=np.indices(A.shape)`<br>\n",
    "`A[i==j-1]=-1`<br>\n",
    "`A[i==j+1]=-1`<br>\n",
    "Quelle est la matrice contenue dans le tableau créé ?"
   ]
  },
  {
   "cell_type": "code",
   "execution_count": 61,
   "metadata": {},
   "outputs": [
    {
     "name": "stdout",
     "output_type": "stream",
     "text": [
      "[[ 2. -1.  0.  0.  0.  0.  0.]\n",
      " [-1.  2. -1.  0.  0.  0.  0.]\n",
      " [ 0. -1.  2. -1.  0.  0.  0.]\n",
      " [ 0.  0. -1.  2. -1.  0.  0.]\n",
      " [ 0.  0.  0. -1.  2. -1.  0.]\n",
      " [ 0.  0.  0.  0. -1.  2. -1.]\n",
      " [ 0.  0.  0.  0.  0. -1.  2.]]\n"
     ]
    }
   ],
   "source": [
    "n = 7\n",
    "\n",
    "A = 2 * np.eye(n)\n",
    "i,j = np.indices(A.shape)\n",
    "A[i==j-1]=-1\n",
    "A[i==j+1]=-1\n",
    "\n",
    "print(A) # 2 * In (et une rangée de -1 de chaque côté de la diagonale)"
   ]
  },
  {
   "cell_type": "markdown",
   "metadata": {},
   "source": [
    "(b) Créer le même tableau en utilisant cette fois la commande `np.diag`."
   ]
  },
  {
   "cell_type": "code",
   "execution_count": 66,
   "metadata": {},
   "outputs": [
    {
     "name": "stdout",
     "output_type": "stream",
     "text": [
      "[[ 2. -1.  0.  0.  0.]\n",
      " [-1.  2. -1.  0.  0.]\n",
      " [ 0. -1.  2. -1.  0.]\n",
      " [ 0.  0. -1.  2. -1.]\n",
      " [ 0.  0.  0. -1.  2.]]\n"
     ]
    }
   ],
   "source": [
    "n = 5\n",
    "\n",
    "A = np.diag(2 * np.ones(n)) + np.diag(-1 * np.ones(n-1), k=1) + np.diag(-1 * np.ones(n-1), k=-1)\n",
    "\n",
    "print(A)"
   ]
  },
  {
   "cell_type": "markdown",
   "metadata": {},
   "source": [
    "## Exercice 2 (représentation graphique d'une fonction)\n",
    "\n",
    "On cherche à obtenir une représentation graphique de la fonction $f(x)=\\exp(-x)\\sin(4x)$ sur l’intervalle $[0,2\\pi]$.\n",
    "\n",
    "**1.** Que contiennent les tableaux créés par la suite d'instructions ci-après ?\n",
    "\n",
    "`x=np.linspace(0,2*np.pi,101)`<br>\n",
    "`y=np.exp(-x)*np.sin(4*x)`"
   ]
  },
  {
   "cell_type": "code",
   "execution_count": 77,
   "metadata": {},
   "outputs": [
    {
     "name": "stdout",
     "output_type": "stream",
     "text": [
      "[0.         0.06283185 0.12566371 0.18849556 0.25132741 0.31415927\n",
      " 0.37699112 0.43982297 0.50265482 0.56548668 0.62831853 0.69115038\n",
      " 0.75398224 0.81681409 0.87964594 0.9424778  1.00530965 1.0681415\n",
      " 1.13097336 1.19380521 1.25663706 1.31946891 1.38230077 1.44513262\n",
      " 1.50796447 1.57079633 1.63362818 1.69646003 1.75929189 1.82212374\n",
      " 1.88495559 1.94778745 2.0106193  2.07345115 2.136283   2.19911486\n",
      " 2.26194671 2.32477856 2.38761042 2.45044227 2.51327412 2.57610598\n",
      " 2.63893783 2.70176968 2.76460154 2.82743339 2.89026524 2.95309709\n",
      " 3.01592895 3.0787608  3.14159265 3.20442451 3.26725636 3.33008821\n",
      " 3.39292007 3.45575192 3.51858377 3.58141563 3.64424748 3.70707933\n",
      " 3.76991118 3.83274304 3.89557489 3.95840674 4.0212386  4.08407045\n",
      " 4.1469023  4.20973416 4.27256601 4.33539786 4.39822972 4.46106157\n",
      " 4.52389342 4.58672527 4.64955713 4.71238898 4.77522083 4.83805269\n",
      " 4.90088454 4.96371639 5.02654825 5.0893801  5.15221195 5.2150438\n",
      " 5.27787566 5.34070751 5.40353936 5.46637122 5.52920307 5.59203492\n",
      " 5.65486678 5.71769863 5.78053048 5.84336234 5.90619419 5.96902604\n",
      " 6.03185789 6.09468975 6.1575216  6.22035345 6.28318531]\n",
      "[ 0.00000000e+00  2.33545013e-01  4.24864047e-01  5.66944775e-01\n",
      "  6.56690971e-01  6.94654239e-01  6.84568655e-01  6.32740769e-01\n",
      "  5.47350299e-01  4.37715941e-01  3.13576432e-01  1.84430178e-01\n",
      "  5.89679350e-02 -5.53768684e-02 -1.52745845e-01 -2.29037070e-01\n",
      " -2.81954918e-01 -3.10940732e-01 -3.17002743e-01 -3.02467807e-01\n",
      " -2.70679761e-01 -2.25669613e-01 -1.71821594e-01 -1.13556478e-01\n",
      " -5.50500193e-02  1.33718342e-16  4.85492384e-02  8.83205580e-02\n",
      "  1.17856240e-01  1.36512641e-01  1.44404429e-01  1.42307842e-01\n",
      "  1.31533883e-01  1.13782948e-01  9.09922044e-02  6.51861359e-02\n",
      "  3.83392674e-02  1.22582293e-02 -1.15117199e-02 -3.17527415e-02\n",
      " -4.76121291e-02 -5.86126689e-02 -6.46382276e-02 -6.58983959e-02\n",
      " -6.28768796e-02 -5.62687940e-02 -4.69121036e-02 -3.57182001e-02\n",
      " -2.36060725e-02 -1.14437747e-02  5.55946246e-17  1.00923951e-02\n",
      "  1.83600402e-02  2.44999052e-02  2.83781899e-02  3.00187315e-02\n",
      "  2.95828939e-02  2.73432079e-02  2.36531511e-02  1.89154209e-02\n",
      "  1.35508663e-02  7.96995066e-03  2.54823552e-03 -2.39305146e-03\n",
      " -6.60074646e-03 -9.89758922e-03 -1.21843768e-02 -1.34369674e-02\n",
      " -1.36989306e-02 -1.30708191e-02 -1.16971331e-02 -9.75206823e-03\n",
      " -7.42508431e-03 -4.90722034e-03 -2.37892703e-03 -6.60081516e-18\n",
      "  2.09800282e-03  3.81667738e-03  5.09302991e-03  5.89924610e-03\n",
      "  6.24028119e-03  6.14967945e-03  5.68409447e-03  4.91700703e-03\n",
      "  3.93212969e-03  2.81694835e-03  1.65678997e-03  5.29726121e-04\n",
      " -4.97466525e-04 -1.37216038e-03 -2.05750665e-03 -2.53288308e-03\n",
      " -2.79327108e-03 -2.84772789e-03 -2.71715634e-03 -2.43159506e-03\n",
      " -2.02725581e-03 -1.54352338e-03 -1.02011089e-03 -4.94530344e-04\n",
      " -1.82956621e-18]\n"
     ]
    }
   ],
   "source": [
    "x = np.linspace(0, 2*np.pi, 101) # 101 valeurs uniformément réparties sur [0, 2pi] \n",
    "y = np.exp(-x)*np.sin(4*x)       # Pour chacune des valeurs v de x, on met dans le tableau a exp(-v)sin(4v)\n",
    "\n",
    "print(x)\n",
    "print(y)"
   ]
  },
  {
   "cell_type": "markdown",
   "metadata": {},
   "source": []
  },
  {
   "cell_type": "markdown",
   "metadata": {},
   "source": [
    "**2.** Tracer à présent le graphe de la fonction $f$ en utilisant la fonction `plot` de Matplotlib et les tableaux `x` et `y`. Compléter la figure en ajoutant un titre, en nommant les axes des abscisses et des ordonnées à l'aide des commandes suivantes<br>\n",
    "`plt.title('titre')`<br>\n",
    "`plt.xlabel('nom abscisses')`<br>\n",
    "`plt.ylabel('nom ordonnées')`<br>"
   ]
  },
  {
   "cell_type": "code",
   "execution_count": 78,
   "metadata": {},
   "outputs": [
    {
     "data": {
      "text/plain": [
       "Text(0, 0.5, 'exp(-x) * sin(4*x)')"
      ]
     },
     "execution_count": 78,
     "metadata": {},
     "output_type": "execute_result"
    },
    {
     "data": {
      "image/png": "[encoded data removed]",
      "text/plain": [
       "<Figure size 640x480 with 1 Axes>"
      ]
     },
     "metadata": {},
     "output_type": "display_data"
    }
   ],
   "source": [
    "plt.plot(x, y)\n",
    "plt.title('Traçage d\\'une fonction sur matplotlib')\n",
    "plt.xlabel('x')\n",
    "plt.ylabel('exp(-x) * sin(4*x)')"
   ]
  },
  {
   "cell_type": "markdown",
   "metadata": {},
   "source": [
    "**3.** Tracer sur la même figure les graphes de $f$ et de la fonction $g$, définie par\n",
    "$$\n",
    "g(x)=\\frac{\\sin(x)}{\\arctan(x+1)},\n",
    "$$\n",
    "sur l'intervalle $[0,2\\pi]$, en ajoutant aux appels à la fonction `plot` l'attribut `label='nom de la fonction'` pour chacun des graphes. Afficher alors une légende avec la fonction `legend` de Matplotlib."
   ]
  },
  {
   "cell_type": "code",
   "execution_count": 80,
   "metadata": {},
   "outputs": [
    {
     "data": {
      "text/plain": [
       "<matplotlib.legend.Legend at 0x7f50ffde6690>"
      ]
     },
     "execution_count": 80,
     "metadata": {},
     "output_type": "execute_result"
    },
    {
     "data": {
      "image/png": "[encoded data removed]",
      "text/plain": [
       "<Figure size 640x480 with 1 Axes>"
      ]
     },
     "metadata": {},
     "output_type": "display_data"
    }
   ],
   "source": [
    "x = np.linspace(0, 2*np.pi, 101) # 101 valeurs uniformément réparties sur [0, 2pi] \n",
    "y = np.exp(-x)*np.sin(4*x)       # Pour chacune des valeurs v de x, on met dans le tableau a exp(-v)sin(4v)\n",
    "plt.plot(x, y, label='Fonction f')\n",
    "\n",
    "x2 = np.linspace(0, 2*np.pi, 101) # 101 valeurs uniformément réparties sur [0, 2pi] \n",
    "y2 = np.sin(x)/np.arctan(x+1)       # Pour chacune des valeurs v de x, on met dans le tableau a exp(-v)sin(4v)\n",
    "plt.plot(x2, y2, label='Fonction g')\n",
    "\n",
    "\n",
    "plt.title('Traçage de deux fonctions sur matplotlib')\n",
    "plt.xlabel('x')\n",
    "plt.ylabel('y')\n",
    "plt.legend()"
   ]
  },
  {
   "cell_type": "markdown",
   "metadata": {},
   "source": [
    "## Exercice 3 (manipulation de nombres complexes)\n",
    "\n",
    "Soit $u$ et $v$ les nombres complexes\n",
    "$$\n",
    "u=11-7\\mathrm{i}\\text{ et }v=-1+\\sqrt{3}\\mathrm{i}.\n",
    "$$\n",
    "Créer des variables correspondant à ces deux nombres et calculer le module de $u$ et l'argument de $v$, le produit $u\\overline{v}$, ainsi que les parties réelle et imaginaire de $u^3+v^2$ en utilisant les commandes appropriées."
   ]
  },
  {
   "cell_type": "code",
   "execution_count": 90,
   "metadata": {},
   "outputs": [
    {
     "name": "stdout",
     "output_type": "stream",
     "text": [
      "13.038404810405298\n",
      "120.00000000000001\n",
      "-278.0\n",
      "-2198.0\n"
     ]
    }
   ],
   "source": [
    "u = 11 - 7j\n",
    "v = -1 + np.sqrt(3) * 1j\n",
    "\n",
    "print(np.abs(u))\n",
    "print(np.angle(v, deg=True))\n",
    "\n",
    "w = np.power(u, 3) + np.power(v, 3)\n",
    "print(np.real(w))\n",
    "print(np.imag(w))"
   ]
  }
 ],
 "metadata": {
  "kernelspec": {
   "display_name": "Python 3",
   "language": "python",
   "name": "python3"
  },
  "language_info": {
   "codemirror_mode": {
    "name": "ipython",
    "version": 3
   },
   "file_extension": ".py",
   "mimetype": "text/x-python",
   "name": "python",
   "nbconvert_exporter": "python",
   "pygments_lexer": "ipython3",
   "version": "3.11.6"
  }
 },
 "nbformat": 4,
 "nbformat_minor": 1
}
